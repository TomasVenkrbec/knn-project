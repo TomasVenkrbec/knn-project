{
  "nbformat": 4,
  "nbformat_minor": 0,
  "metadata": {
    "accelerator": "GPU",
    "colab": {
      "name": "KNN_project.ipynb",
      "provenance": [],
      "collapsed_sections": []
    },
    "kernelspec": {
      "display_name": "Python 3",
      "name": "python3"
    },
    "language_info": {
      "name": "python"
    }
  },
  "cells": [
    {
      "cell_type": "code",
      "metadata": {
        "colab": {
          "base_uri": "https://localhost:8080/"
        },
        "id": "5cLYuOFlI100",
        "outputId": "a97eadc5-66c0-4990-a1b8-e4097db068fe"
      },
      "source": [
        "from google.colab import drive\n",
        "drive.mount(\"/content/gdrive\")"
      ],
      "execution_count": null,
      "outputs": [
        {
          "output_type": "stream",
          "text": [
            "Mounted at /content/gdrive\n"
          ],
          "name": "stdout"
        }
      ]
    },
    {
      "cell_type": "code",
      "metadata": {
        "id": "c6NOAIprkHTf"
      },
      "source": [
        "!git clone https://github.com/TomasVenkrbec/knn-project\n",
        "!pip install -r /content/knn-project/requirements.txt\n",
        "!mkdir /content/knn-project/dataset\n",
        "!mkdir /content/knn-project/dataset/ImageNet\n",
        "!mkdir /content/knn-project/images_to_colorize/\n",
        "!mkdir /content/knn-project/results/\n",
        "!mkdir /content/knn-project/snapshots/"
      ],
      "execution_count": null,
      "outputs": []
    },
    {
      "cell_type": "code",
      "metadata": {
        "id": "PVYkmtet2XYA"
      },
      "source": [
        "# Download and prepare the COCO dataset\n",
        "!wget http://images.cocodataset.org/zips/val2017.zip\n",
        "!wget http://images.cocodataset.org/annotations/annotations_trainval2017.zip\n",
        "!unzip val2017.zip\n",
        "!unzip annotations_trainval2017.zip \n",
        "!mv val2017 images"
      ],
      "execution_count": null,
      "outputs": []
    },
    {
      "cell_type": "code",
      "metadata": {
        "colab": {
          "base_uri": "https://localhost:8080/"
        },
        "id": "8L5O2cHM4kvq",
        "outputId": "f506138b-576f-4dc5-c33b-964db8152f83"
      },
      "source": [
        "# Create subfolder out of some COCO images\n",
        "!python3 /content/knn-project/coco_dataset_handler.py --dtype val2017 --dataset /content/ --categories [animal,person,food,outdoor] --otype subfolder\n",
        "!mv /content/COCO_animal_person_food_outdoor /content/knn-project/dataset/COCO"
      ],
      "execution_count": null,
      "outputs": [
        {
          "output_type": "stream",
          "text": [
            "Traceback (most recent call last):\n",
            "  File \"/content/knn-project/coco_dataset_handler.py\", line 12, in <module>\n",
            "    from pycocotools.coco import COCO\n",
            "  File \"./cocoapi-master/PythonAPI/pycocotools/coco.py\", line 55, in <module>\n",
            "    from . import mask as maskUtils\n",
            "  File \"./cocoapi-master/PythonAPI/pycocotools/mask.py\", line 3, in <module>\n",
            "    import pycocotools._mask as _mask\n",
            "ModuleNotFoundError: No module named 'pycocotools._mask'\n"
          ],
          "name": "stdout"
        }
      ]
    },
    {
      "cell_type": "code",
      "metadata": {
        "id": "Ahcmc_wQiNCp"
      },
      "source": [
        "# Get the ImageNet Dataset\n",
        "!cp /content/gdrive/MyDrive/imagenet64x64_part/train_data_batch_1 /content/knn-project/dataset/ImageNet/\n",
        "!cp /content/gdrive/MyDrive/imagenet64x64_part/val_data /content/knn-project/dataset/ImageNet/"
      ],
      "execution_count": null,
      "outputs": []
    },
    {
      "cell_type": "code",
      "metadata": {
        "id": "8vkJT50EWWdx"
      },
      "source": [
        "# Run tensorboard\n",
        "%load_ext tensorboard\n",
        "%tensorboard --logdir /content/gdrive/MyDrive/knn_logs"
      ],
      "execution_count": null,
      "outputs": []
    },
    {
      "cell_type": "code",
      "metadata": {
        "colab": {
          "base_uri": "https://localhost:8080/"
        },
        "id": "S1lpz3Mi6_Cw",
        "outputId": "2dae528b-5fc1-43d7-fe03-c8f1cee5bf02"
      },
      "source": [
        "# Run with COCO\n",
        "%cd knn-project\n",
        "#!python3 /content/knn-project/run.py \\\n",
        "!python3 /content/knn-project/run.py --load_weights \\\n",
        "--batch_size 32 --resolution 128 \\\n",
        "--epochs 100 --dataset COCO --logdir /content/gdrive/MyDrive/knn_logs \\\n",
        "--snapshot_path /content/gdrive/MyDrive/knn_snapshots/ \\\n",
        "--filters_gen 16 --filters_disc 8"
      ],
      "execution_count": null,
      "outputs": [
        {
          "output_type": "stream",
          "text": [
            "Shape of train data:\n",
            "(3600, 128, 128, 3)\n",
            "Shape of val data:\n",
            "(400, 128, 128, 3)\n",
            "/usr/local/lib/python3.7/dist-packages/tensorflow/python/data/ops/dataset_ops.py:3504: UserWarning: Even though the tf.config.experimental_run_functions_eagerly option is set, this option does not apply to tf.data functions. tf.data functions are still traced and executed as graphs.\n",
            "  \"Even though the tf.config.experimental_run_functions_eagerly \"\n",
            "Epoch 1/100\n",
            "  6/112 [>.............................] - ETA: 3:34 - d_train_loss: 0.5531 - d_train_accuracy: 0.7975 - g_train_loss_vgg: 5957.2566 - g_train_loss_bce: 1.2875WARNING:tensorflow:Callback method `on_train_batch_end` is slow compared to the batch time (batch time: 0.6399s vs `on_train_batch_end` time: 1.0642s). Check your callbacks.\n",
            "112/112 [==============================] - 90s 732ms/step - d_train_loss: 0.5934 - d_train_accuracy: 0.6963 - g_train_loss_vgg: 13605.5786 - g_train_loss_bce: 1.0987 - val_d_val_loss: 0.5079 - val_d_val_accuracy: 0.7435 - val_g_val_loss_bce: 1.1078 - val_g_val_loss_vgg: 7243.4399\n",
            "Epoch 2/100\n",
            "112/112 [==============================] - 80s 718ms/step - d_train_loss: 0.5958 - d_train_accuracy: 0.7115 - g_train_loss_vgg: 11232.2173 - g_train_loss_bce: 1.1235 - val_d_val_loss: 0.5927 - val_d_val_accuracy: 0.6549 - val_g_val_loss_bce: 0.8405 - val_g_val_loss_vgg: 8280.9678\n",
            "Epoch 3/100\n",
            "112/112 [==============================] - 80s 720ms/step - d_train_loss: 0.5869 - d_train_accuracy: 0.7145 - g_train_loss_vgg: 10612.0566 - g_train_loss_bce: 1.1691 - val_d_val_loss: 0.6585 - val_d_val_accuracy: 0.6289 - val_g_val_loss_bce: 1.2687 - val_g_val_loss_vgg: 16518.6855\n",
            "Epoch 4/100\n",
            "112/112 [==============================] - 80s 715ms/step - d_train_loss: 0.5972 - d_train_accuracy: 0.6969 - g_train_loss_vgg: 10557.5709 - g_train_loss_bce: 1.0830 - val_d_val_loss: 0.6116 - val_d_val_accuracy: 0.6354 - val_g_val_loss_bce: 0.8644 - val_g_val_loss_vgg: 13552.0000\n",
            "Epoch 5/100\n",
            "112/112 [==============================] - 80s 716ms/step - d_train_loss: 0.5905 - d_train_accuracy: 0.7111 - g_train_loss_vgg: 12215.8713 - g_train_loss_bce: 1.0994 - val_d_val_loss: 0.6082 - val_d_val_accuracy: 0.6706 - val_g_val_loss_bce: 1.1163 - val_g_val_loss_vgg: 8786.6191\n",
            "Epoch 6/100\n",
            "112/112 [==============================] - 80s 710ms/step - d_train_loss: 0.5836 - d_train_accuracy: 0.7218 - g_train_loss_vgg: 10433.4043 - g_train_loss_bce: 1.1299 - val_d_val_loss: 0.5999 - val_d_val_accuracy: 0.6536 - val_g_val_loss_bce: 0.8077 - val_g_val_loss_vgg: 9255.9814\n",
            "Epoch 7/100\n",
            "112/112 [==============================] - 80s 712ms/step - d_train_loss: 0.5700 - d_train_accuracy: 0.7372 - g_train_loss_vgg: 10436.7215 - g_train_loss_bce: 1.1395 - val_d_val_loss: 0.7945 - val_d_val_accuracy: 0.5156 - val_g_val_loss_bce: 0.7351 - val_g_val_loss_vgg: 11757.7256\n",
            "Epoch 8/100\n",
            "112/112 [==============================] - 79s 711ms/step - d_train_loss: 0.5831 - d_train_accuracy: 0.6948 - g_train_loss_vgg: 11127.8758 - g_train_loss_bce: 1.1486 - val_d_val_loss: 0.7269 - val_d_val_accuracy: 0.5794 - val_g_val_loss_bce: 0.6878 - val_g_val_loss_vgg: 13581.2656\n",
            "Epoch 9/100\n",
            "112/112 [==============================] - 80s 717ms/step - d_train_loss: 0.5751 - d_train_accuracy: 0.7193 - g_train_loss_vgg: 11043.4070 - g_train_loss_bce: 1.1505 - val_d_val_loss: 0.6565 - val_d_val_accuracy: 0.6159 - val_g_val_loss_bce: 1.3202 - val_g_val_loss_vgg: 11838.1924\n",
            "Epoch 10/100\n",
            "112/112 [==============================] - 79s 710ms/step - d_train_loss: 0.5824 - d_train_accuracy: 0.7137 - g_train_loss_vgg: 12096.8510 - g_train_loss_bce: 1.1366 - val_d_val_loss: 0.7076 - val_d_val_accuracy: 0.5833 - val_g_val_loss_bce: 1.4763 - val_g_val_loss_vgg: 17216.9277\n",
            "Epoch 11/100\n",
            "112/112 [==============================] - 79s 708ms/step - d_train_loss: 0.5703 - d_train_accuracy: 0.7269 - g_train_loss_vgg: 10892.2850 - g_train_loss_bce: 1.1682 - val_d_val_loss: 0.5150 - val_d_val_accuracy: 0.7604 - val_g_val_loss_bce: 1.0277 - val_g_val_loss_vgg: 6907.0073\n",
            "Epoch 12/100\n",
            "112/112 [==============================] - 79s 710ms/step - d_train_loss: 0.5665 - d_train_accuracy: 0.7356 - g_train_loss_vgg: 11754.9985 - g_train_loss_bce: 1.1772 - val_d_val_loss: 0.5121 - val_d_val_accuracy: 0.7617 - val_g_val_loss_bce: 1.1004 - val_g_val_loss_vgg: 8464.0918\n",
            "Epoch 13/100\n",
            "112/112 [==============================] - 80s 718ms/step - d_train_loss: 0.5620 - d_train_accuracy: 0.7376 - g_train_loss_vgg: 11604.0844 - g_train_loss_bce: 1.2064 - val_d_val_loss: 0.6227 - val_d_val_accuracy: 0.6471 - val_g_val_loss_bce: 0.8904 - val_g_val_loss_vgg: 13618.8740\n",
            "Epoch 14/100\n",
            "112/112 [==============================] - 79s 707ms/step - d_train_loss: 0.5706 - d_train_accuracy: 0.7213 - g_train_loss_vgg: 10973.9089 - g_train_loss_bce: 1.2104 - val_d_val_loss: 0.5928 - val_d_val_accuracy: 0.6758 - val_g_val_loss_bce: 1.0817 - val_g_val_loss_vgg: 23743.7949\n",
            "Epoch 15/100\n",
            "112/112 [==============================] - 79s 711ms/step - d_train_loss: 0.5645 - d_train_accuracy: 0.7259 - g_train_loss_vgg: 12092.2379 - g_train_loss_bce: 1.2092 - val_d_val_loss: 0.5750 - val_d_val_accuracy: 0.7005 - val_g_val_loss_bce: 1.0548 - val_g_val_loss_vgg: 13432.9814\n",
            "Epoch 16/100\n",
            "112/112 [==============================] - 80s 711ms/step - d_train_loss: 0.5659 - d_train_accuracy: 0.7379 - g_train_loss_vgg: 10743.7235 - g_train_loss_bce: 1.2006 - val_d_val_loss: 0.5437 - val_d_val_accuracy: 0.7161 - val_g_val_loss_bce: 0.9133 - val_g_val_loss_vgg: 8155.5210\n",
            "Epoch 17/100\n",
            "112/112 [==============================] - 80s 716ms/step - d_train_loss: 0.5585 - d_train_accuracy: 0.7362 - g_train_loss_vgg: 12015.5362 - g_train_loss_bce: 1.2210 - val_d_val_loss: 0.4935 - val_d_val_accuracy: 0.7604 - val_g_val_loss_bce: 1.1935 - val_g_val_loss_vgg: 10474.1035\n",
            "Epoch 18/100\n",
            "112/112 [==============================] - 79s 710ms/step - d_train_loss: 0.5558 - d_train_accuracy: 0.7408 - g_train_loss_vgg: 11292.8908 - g_train_loss_bce: 1.2502 - val_d_val_loss: 0.6185 - val_d_val_accuracy: 0.6589 - val_g_val_loss_bce: 1.0337 - val_g_val_loss_vgg: 18412.0254\n",
            "Epoch 19/100\n",
            "112/112 [==============================] - 79s 709ms/step - d_train_loss: 0.5640 - d_train_accuracy: 0.7311 - g_train_loss_vgg: 11087.1750 - g_train_loss_bce: 1.2110 - val_d_val_loss: 0.5305 - val_d_val_accuracy: 0.7214 - val_g_val_loss_bce: 0.9494 - val_g_val_loss_vgg: 9072.9834\n",
            "Epoch 20/100\n",
            "112/112 [==============================] - 79s 711ms/step - d_train_loss: 0.5544 - d_train_accuracy: 0.7458 - g_train_loss_vgg: 11599.8702 - g_train_loss_bce: 1.2701 - val_d_val_loss: 0.5840 - val_d_val_accuracy: 0.6784 - val_g_val_loss_bce: 1.1472 - val_g_val_loss_vgg: 11239.8359\n",
            "Epoch 21/100\n",
            "112/112 [==============================] - 80s 716ms/step - d_train_loss: 0.5636 - d_train_accuracy: 0.7480 - g_train_loss_vgg: 11013.5887 - g_train_loss_bce: 1.2385 - val_d_val_loss: 0.6212 - val_d_val_accuracy: 0.6602 - val_g_val_loss_bce: 0.9205 - val_g_val_loss_vgg: 10415.9990\n",
            "Epoch 22/100\n",
            "112/112 [==============================] - 79s 709ms/step - d_train_loss: 0.5477 - d_train_accuracy: 0.7498 - g_train_loss_vgg: 12052.8555 - g_train_loss_bce: 1.2550 - val_d_val_loss: 0.5556 - val_d_val_accuracy: 0.6979 - val_g_val_loss_bce: 1.0533 - val_g_val_loss_vgg: 9886.7959\n",
            "Epoch 23/100\n",
            "112/112 [==============================] - 79s 709ms/step - d_train_loss: 0.5487 - d_train_accuracy: 0.7543 - g_train_loss_vgg: 11016.6630 - g_train_loss_bce: 1.2904 - val_d_val_loss: 0.6533 - val_d_val_accuracy: 0.6276 - val_g_val_loss_bce: 1.0153 - val_g_val_loss_vgg: 14151.8164\n",
            "Epoch 24/100\n",
            "112/112 [==============================] - 79s 709ms/step - d_train_loss: 0.5502 - d_train_accuracy: 0.7406 - g_train_loss_vgg: 11712.7012 - g_train_loss_bce: 1.2513 - val_d_val_loss: 0.6378 - val_d_val_accuracy: 0.6393 - val_g_val_loss_bce: 1.0093 - val_g_val_loss_vgg: 13831.5850\n",
            "Epoch 25/100\n",
            "112/112 [==============================] - 79s 708ms/step - d_train_loss: 0.5472 - d_train_accuracy: 0.7518 - g_train_loss_vgg: 11120.6545 - g_train_loss_bce: 1.2852 - val_d_val_loss: 0.5361 - val_d_val_accuracy: 0.7266 - val_g_val_loss_bce: 1.2363 - val_g_val_loss_vgg: 12451.1377\n",
            "Epoch 26/100\n",
            "112/112 [==============================] - 80s 707ms/step - d_train_loss: 0.5442 - d_train_accuracy: 0.7591 - g_train_loss_vgg: 12389.0749 - g_train_loss_bce: 1.3470 - val_d_val_loss: 0.5667 - val_d_val_accuracy: 0.6992 - val_g_val_loss_bce: 1.0093 - val_g_val_loss_vgg: 9646.8730\n",
            "Epoch 27/100\n",
            "112/112 [==============================] - 79s 709ms/step - d_train_loss: 0.5352 - d_train_accuracy: 0.7611 - g_train_loss_vgg: 11495.0059 - g_train_loss_bce: 1.3003 - val_d_val_loss: 0.5731 - val_d_val_accuracy: 0.6667 - val_g_val_loss_bce: 0.8361 - val_g_val_loss_vgg: 9951.1855\n",
            "Epoch 28/100\n",
            "112/112 [==============================] - 79s 710ms/step - d_train_loss: 0.5438 - d_train_accuracy: 0.7451 - g_train_loss_vgg: 12371.1123 - g_train_loss_bce: 1.3117 - val_d_val_loss: 0.6728 - val_d_val_accuracy: 0.6250 - val_g_val_loss_bce: 1.6694 - val_g_val_loss_vgg: 11605.6768\n",
            "Epoch 29/100\n",
            "112/112 [==============================] - 80s 712ms/step - d_train_loss: 0.5307 - d_train_accuracy: 0.7579 - g_train_loss_vgg: 12404.9130 - g_train_loss_bce: 1.3279 - val_d_val_loss: 0.5553 - val_d_val_accuracy: 0.7109 - val_g_val_loss_bce: 1.2295 - val_g_val_loss_vgg: 28843.4590\n",
            "Epoch 30/100\n",
            "112/112 [==============================] - 80s 716ms/step - d_train_loss: 0.5421 - d_train_accuracy: 0.7564 - g_train_loss_vgg: 13136.8764 - g_train_loss_bce: 1.3015 - val_d_val_loss: 0.5681 - val_d_val_accuracy: 0.6901 - val_g_val_loss_bce: 0.9894 - val_g_val_loss_vgg: 9799.2822\n",
            "Epoch 31/100\n",
            "112/112 [==============================] - 80s 712ms/step - d_train_loss: 0.5356 - d_train_accuracy: 0.7589 - g_train_loss_vgg: 11099.1694 - g_train_loss_bce: 1.3142 - val_d_val_loss: 0.5803 - val_d_val_accuracy: 0.6484 - val_g_val_loss_bce: 0.8101 - val_g_val_loss_vgg: 9385.1055\n",
            "Epoch 32/100\n",
            "112/112 [==============================] - 79s 707ms/step - d_train_loss: 0.5288 - d_train_accuracy: 0.7613 - g_train_loss_vgg: 11935.3037 - g_train_loss_bce: 1.3730 - val_d_val_loss: 0.5034 - val_d_val_accuracy: 0.7565 - val_g_val_loss_bce: 1.2257 - val_g_val_loss_vgg: 10754.0869\n",
            "Epoch 33/100\n",
            "112/112 [==============================] - 79s 708ms/step - d_train_loss: 0.5237 - d_train_accuracy: 0.7762 - g_train_loss_vgg: 12154.7815 - g_train_loss_bce: 1.3664 - val_d_val_loss: 0.4938 - val_d_val_accuracy: 0.7773 - val_g_val_loss_bce: 1.1839 - val_g_val_loss_vgg: 11330.4580\n",
            "Epoch 34/100\n",
            "112/112 [==============================] - 80s 714ms/step - d_train_loss: 0.5294 - d_train_accuracy: 0.7759 - g_train_loss_vgg: 11900.9135 - g_train_loss_bce: 1.3838 - val_d_val_loss: 0.5397 - val_d_val_accuracy: 0.7135 - val_g_val_loss_bce: 0.8529 - val_g_val_loss_vgg: 11649.2783\n",
            "Epoch 35/100\n",
            "112/112 [==============================] - 79s 709ms/step - d_train_loss: 0.5182 - d_train_accuracy: 0.7797 - g_train_loss_vgg: 12516.5593 - g_train_loss_bce: 1.4245 - val_d_val_loss: 0.5804 - val_d_val_accuracy: 0.6862 - val_g_val_loss_bce: 1.1029 - val_g_val_loss_vgg: 17143.7227\n",
            "Epoch 36/100\n",
            "112/112 [==============================] - 79s 710ms/step - d_train_loss: 0.5270 - d_train_accuracy: 0.7666 - g_train_loss_vgg: 12488.9497 - g_train_loss_bce: 1.3456 - val_d_val_loss: 0.5581 - val_d_val_accuracy: 0.7031 - val_g_val_loss_bce: 1.2753 - val_g_val_loss_vgg: 9136.5850\n",
            "Epoch 37/100\n",
            "112/112 [==============================] - 79s 708ms/step - d_train_loss: 0.5226 - d_train_accuracy: 0.7690 - g_train_loss_vgg: 13758.2282 - g_train_loss_bce: 1.3974 - val_d_val_loss: 0.5117 - val_d_val_accuracy: 0.7448 - val_g_val_loss_bce: 1.4230 - val_g_val_loss_vgg: 13440.3643\n",
            "Epoch 38/100\n",
            "112/112 [==============================] - 80s 715ms/step - d_train_loss: 0.5210 - d_train_accuracy: 0.7833 - g_train_loss_vgg: 12743.9445 - g_train_loss_bce: 1.3560 - val_d_val_loss: 0.5389 - val_d_val_accuracy: 0.7292 - val_g_val_loss_bce: 1.2708 - val_g_val_loss_vgg: 9968.2881\n",
            "Epoch 39/100\n",
            "112/112 [==============================] - 80s 715ms/step - d_train_loss: 0.5194 - d_train_accuracy: 0.7802 - g_train_loss_vgg: 13777.8836 - g_train_loss_bce: 1.4130 - val_d_val_loss: 0.5705 - val_d_val_accuracy: 0.7161 - val_g_val_loss_bce: 1.1295 - val_g_val_loss_vgg: 13860.5195\n",
            "Epoch 40/100\n",
            "112/112 [==============================] - 79s 710ms/step - d_train_loss: 0.5200 - d_train_accuracy: 0.7782 - g_train_loss_vgg: 12564.3976 - g_train_loss_bce: 1.3817 - val_d_val_loss: 0.5751 - val_d_val_accuracy: 0.7018 - val_g_val_loss_bce: 1.3042 - val_g_val_loss_vgg: 13433.7588\n",
            "Epoch 41/100\n",
            "112/112 [==============================] - 79s 706ms/step - d_train_loss: 0.5136 - d_train_accuracy: 0.7866 - g_train_loss_vgg: 12556.2379 - g_train_loss_bce: 1.3783 - val_d_val_loss: 0.5558 - val_d_val_accuracy: 0.7201 - val_g_val_loss_bce: 0.9468 - val_g_val_loss_vgg: 9789.1172\n",
            "Epoch 42/100\n",
            "112/112 [==============================] - 80s 716ms/step - d_train_loss: 0.5072 - d_train_accuracy: 0.7785 - g_train_loss_vgg: 12360.5436 - g_train_loss_bce: 1.4239 - val_d_val_loss: 0.7291 - val_d_val_accuracy: 0.6211 - val_g_val_loss_bce: 2.1459 - val_g_val_loss_vgg: 13360.6338\n",
            "Epoch 43/100\n",
            " 19/112 [====>.........................] - ETA: 1:15 - d_train_loss: 0.5289 - d_train_accuracy: 0.7468 - g_train_loss_vgg: 10080.8838 - g_train_loss_bce: 1.3763Traceback (most recent call last):\n",
            "  File \"/content/knn-project/run.py\", line 98, in <module>\n",
            "    model.train()\n",
            "  File \"/content/knn-project/model.py\", line 298, in train\n",
            "    validation_steps=self.val_batches)\n",
            "  File \"/usr/local/lib/python3.7/dist-packages/tensorflow/python/keras/engine/training.py\", line 1100, in fit\n",
            "    tmp_logs = self.train_function(iterator)\n",
            "  File \"/usr/local/lib/python3.7/dist-packages/tensorflow/python/keras/engine/training.py\", line 805, in train_function\n",
            "    return step_function(self, iterator)\n",
            "  File \"/usr/local/lib/python3.7/dist-packages/tensorflow/python/keras/engine/training.py\", line 795, in step_function\n",
            "    outputs = model.distribute_strategy.run(run_step, args=(data,))\n",
            "  File \"/usr/local/lib/python3.7/dist-packages/tensorflow/python/distribute/distribute_lib.py\", line 1259, in run\n",
            "    return self._extended.call_for_each_replica(fn, args=args, kwargs=kwargs)\n",
            "  File \"/usr/local/lib/python3.7/dist-packages/tensorflow/python/distribute/distribute_lib.py\", line 2730, in call_for_each_replica\n",
            "    return self._call_for_each_replica(fn, args, kwargs)\n",
            "  File \"/usr/local/lib/python3.7/dist-packages/tensorflow/python/distribute/distribute_lib.py\", line 3417, in _call_for_each_replica\n",
            "    return fn(*args, **kwargs)\n",
            "  File \"/usr/local/lib/python3.7/dist-packages/tensorflow/python/autograph/impl/api.py\", line 572, in wrapper\n",
            "    return func(*args, **kwargs)\n",
            "  File \"/usr/local/lib/python3.7/dist-packages/tensorflow/python/keras/engine/training.py\", line 788, in run_step\n",
            "    outputs = model.train_step(data)\n",
            "  File \"/content/knn-project/model.py\", line 340, in train_step\n",
            "    g_loss_bce, g_loss_vgg = self.generator_step(grayscale_images)\n",
            "  File \"/content/knn-project/model.py\", line 313, in generator_step\n",
            "    g_loss_vgg = tf.reduce_mean(self.loss_gen.perceptual_loss(grayscale_images_vgg, generated_images_vgg))\n",
            "  File \"/usr/local/lib/python3.7/dist-packages/tensorflow/python/eager/def_function.py\", line 824, in __call__\n",
            "    return self._python_function(*args, **kwds)\n",
            "  File \"/usr/local/lib/python3.7/dist-packages/tensorflow/python/eager/function.py\", line 3882, in bound_method_wrapper\n",
            "    return wrapped_fn(weak_instance(), *args, **kwargs)\n",
            "  File \"/content/knn-project/utils.py\", line 27, in perceptual_loss\n",
            "    h1 = K.batch_flatten(h1)\n",
            "  File \"/usr/local/lib/python3.7/dist-packages/tensorflow/python/util/dispatch.py\", line 201, in wrapper\n",
            "    return target(*args, **kwargs)\n",
            "  File \"/usr/local/lib/python3.7/dist-packages/tensorflow/python/keras/backend.py\", line 3364, in batch_flatten\n",
            "    x = array_ops.reshape(x, array_ops.stack([-1, prod(shape(x)[1:])]))\n",
            "  File \"/usr/local/lib/python3.7/dist-packages/tensorflow/python/util/dispatch.py\", line 201, in wrapper\n",
            "    return target(*args, **kwargs)\n",
            "  File \"/usr/local/lib/python3.7/dist-packages/tensorflow/python/keras/backend.py\", line 2239, in prod\n",
            "    return math_ops.reduce_prod(x, axis, keepdims)\n",
            "  File \"/usr/local/lib/python3.7/dist-packages/tensorflow/python/util/dispatch.py\", line 201, in wrapper\n",
            "    return target(*args, **kwargs)\n",
            "  File \"/usr/local/lib/python3.7/dist-packages/tensorflow/python/ops/math_ops.py\", line 2519, in reduce_prod\n",
            "    name=name))\n",
            "  File \"/usr/local/lib/python3.7/dist-packages/tensorflow/python/ops/gen_math_ops.py\", line 6617, in prod\n",
            "    _ctx, \"Prod\", name, input, axis, \"keep_dims\", keep_dims)\n",
            "KeyboardInterrupt\n"
          ],
          "name": "stdout"
        }
      ]
    },
    {
      "cell_type": "code",
      "metadata": {
        "id": "FaPAeSI1id51"
      },
      "source": [
        "# Run with ImageNet\n",
        "%cd knn-project\n",
        "!python3 /content/knn-project/run.py --batch_size 128 --epochs 100 --logdir /content/gdrive/MyDrive/knn_logs --snapshot_path /content/gdrive/MyDrive/knn_snapshots/\n",
        "#!python3 /content/knn-project/run.py --images --load_weights\n"
      ],
      "execution_count": null,
      "outputs": []
    }
  ]
}